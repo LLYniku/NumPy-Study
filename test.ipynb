{
 "cells": [
  {
   "cell_type": "markdown",
   "metadata": {},
   "source": [
    "# NumPy学习"
   ]
  },
  {
   "cell_type": "markdown",
   "metadata": {},
   "source": [
    "## NumPy简介"
   ]
  },
  {
   "cell_type": "markdown",
   "metadata": {},
   "source": [
    "NumPy(Numerical Python) 是 Python 语言的一个扩展程序库，支持大量的维度数组与矩阵运算，此外也针对数组运算提供大量的数学函数库。\n",
    "NumPy 的前身 Numeric 最早是由 Jim Hugunin 与其它协作者共同开发，2005 年，Travis Oliphant 在 Numeric 中结合了另一个同性质的程序库 Numarray 的特色，并加入了其它扩展而开发了 NumPy。NumPy 为开放源代码并且由许多协作者共同维护开发。\n",
    "\n",
    "NumPy 是一个运行速度非常快的数学库，主要用于数组计算，包含：\n",
    "\n",
    "* 一个强大的N维数组对象 ndarray\n",
    "* 广播功能函数\n",
    "* 整合 C/C++/Fortran 代码的工具\n",
    "* 线性代数、傅里叶变换、随机数生成等功能\n",
    "\n",
    "PS:#加空格代表标题  *加空格为斜体，两个*为加粗"
   ]
  },
  {
   "cell_type": "markdown",
   "metadata": {},
   "source": [
    "## NumPy应用"
   ]
  },
  {
   "cell_type": "markdown",
   "metadata": {},
   "source": [
    "NumPy 通常与 SciPy（Scientific Python）和 Matplotlib（绘图库）一起使用， 这种组合广泛用于替代 MatLab，是一个强大的科学计算环境，有助于我们通过 Python 学习数据科学或者机器学习。\n",
    "\n",
    "SciPy 是一个开源的 Python 算法库和数学工具包。\n",
    "\n",
    "SciPy 包含的模块有最优化、线性代数、积分、插值、特殊函数、快速傅里叶变换、信号处理和图像处理、常微分方程求解和其他科学与工程中常用的计算。\n",
    "\n",
    "Matplotlib 是 Python 编程语言及其数值数学扩展包 NumPy 的可视化操作界面。它为利用通用的图形用户界面工具包，如 Tkinter, wxPython, Qt 或 GTK+ 向应用程序嵌入式绘图提供了应用程序接口（API）。"
   ]
  },
  {
   "cell_type": "markdown",
   "metadata": {},
   "source": [
    "## NumPy具体函数介绍"
   ]
  },
  {
   "cell_type": "markdown",
   "metadata": {},
   "source": [
    "### Ndarray（array函数）"
   ]
  },
  {
   "cell_type": "markdown",
   "metadata": {},
   "source": [
    "NumPy Ndarray 对象 ：NumPy 最重要的一个特点是其 N 维数组对象 ndarray，它是一系列同类型数据的集合，以 0 下标为开始进行集合中元素的索引。 ndarray 中的每个元素在内存中都有相同存储大小的区域。\n",
    "\n",
    "ndarray 内部由以下内容组成： \n",
    "\n",
    "* 一个指向数据（内存或内存映射文件中的一块数据）的指针。\n",
    "* 数据类型或 dtype，描述在数组中的固定大小值的格子。\n",
    "* 一个表示数组形状（shape）的元组，表示各维度大小的元组。\n",
    "* 一个跨度元组（stride），其中的整数指的是为了前进到当前维度下一个元素需要\"跨过\"的字节数。\n",
    "\n",
    "ndarray 对象由计算机内存的连续一维部分组成，并结合索引模式，将每个元素映射到内存块中的一个位置。内存块以行顺序(C样式)或列顺序(FORTRAN或MatLab风格，即前述的F样式)来保存元素。"
   ]
  },
  {
   "cell_type": "code",
   "execution_count": 1,
   "metadata": {},
   "outputs": [
    {
     "name": "stdout",
     "output_type": "stream",
     "text": [
      "[[1 2 3]\n",
      " [4 5 6]]\n"
     ]
    }
   ],
   "source": [
    "import numpy as np\n",
    "a = np.array([[1,2,3],[4,5,6]])#排列法，中括号的嵌套数目代表数组的维度\n",
    "print(a)"
   ]
  },
  {
   "cell_type": "markdown",
   "metadata": {},
   "source": [
    "### NumPy数据类型"
   ]
  },
  {
   "cell_type": "markdown",
   "metadata": {},
   "source": [
    "https://www.runoob.com/numpy/numpy-dtype.html\n",
    "详情查看相关的数据类型转换"
   ]
  },
  {
   "cell_type": "code",
   "execution_count": 2,
   "metadata": {},
   "outputs": [
    {
     "name": "stdout",
     "output_type": "stream",
     "text": [
      "int32\n"
     ]
    }
   ],
   "source": [
    "\n",
    "import numpy as np\n",
    "# int8, int16, int32, int64 四种数据类型可以使用字符串 'i1', 'i2','i4','i8' 代替\n",
    "dt = np.dtype('i4')\n",
    "print(dt)\n",
    "# 'ix'可以使用8*x来进行计算\n"
   ]
  },
  {
   "cell_type": "markdown",
   "metadata": {},
   "source": [
    "### NumPy数组属性"
   ]
  },
  {
   "cell_type": "markdown",
   "metadata": {},
   "source": [
    "NumPy 数组的维数称为秩（rank），秩就是轴的数量，即数组的维度，一维数组的秩为 1，二维数组的秩为 2，以此类推。轴数越小，跨越的元素数量越多。\n",
    "\n",
    "在 NumPy中，每一个线性的数组称为是一个轴（axis），也就是维度（dimensions）。比如说，二维数组相当于是两个一维数组，其中第一个一维数组中每个元素又是一个一维数组。所以一维数组就是 NumPy 中的轴（axis），第一个轴相当于是底层数组，第二个轴是底层数组里的数组。而轴的数量——秩，就是数组的维数。\n",
    "\n",
    "* *很多时候可以声明 axis。axis=0，表示沿着第 0 轴进行操作，即对每一列进行操作；axis=1，表示沿着第1轴进行操作，即对每一行进行操作。*\n",
    "* *值得注意的是，各个属性的操作可以直接以A.函数的形式使用，以下面为例！*\n",
    "\n",
    "详情请见https://www.runoob.com/numpy/numpy-array-attributes.html\n"
   ]
  },
  {
   "cell_type": "code",
   "execution_count": 3,
   "metadata": {},
   "outputs": [
    {
     "name": "stdout",
     "output_type": "stream",
     "text": [
      "1\n",
      "3\n"
     ]
    }
   ],
   "source": [
    "\n",
    "import numpy as np \n",
    "# ndim为求数组的秩，即轴的数量或维度的数量\n",
    "a = np.arange(24)  \n",
    "print (a.ndim)             # a 现只有一个维度\n",
    "# 现在调整其大小\n",
    "b = a.reshape(2,4,3)  # b 现在拥有三个维度 reshape为n行m列z轴，所以为一个三维数组\n",
    "#注意n*m*z结果要为元素数量24\n",
    "print (b.ndim)\n"
   ]
  },
  {
   "cell_type": "markdown",
   "metadata": {},
   "source": [
    "ndarray.shape 表示数组的维度，返回一个元组，这个元组的长度就是维度的数目，即 ndim 属性(秩)。比如，一个二维数组，其维度表示\"行数\"和\"列数\"。\n",
    "ndarray.shape 也可以用于调整数组大小。"
   ]
  },
  {
   "cell_type": "code",
   "execution_count": 4,
   "metadata": {},
   "outputs": [
    {
     "name": "stdout",
     "output_type": "stream",
     "text": [
      "(2, 3)\n"
     ]
    }
   ],
   "source": [
    "\n",
    "import numpy as np  \n",
    "#\n",
    "a = np.array([[1,2,3],[4,5,6]])  \n",
    "print (a.shape)\n"
   ]
  },
  {
   "cell_type": "markdown",
   "metadata": {},
   "source": [
    "reshape函数常用于调整数组的大小"
   ]
  },
  {
   "cell_type": "code",
   "execution_count": 5,
   "metadata": {},
   "outputs": [
    {
     "name": "stdout",
     "output_type": "stream",
     "text": [
      "[[1 2]\n",
      " [3 4]\n",
      " [5 6]]\n"
     ]
    }
   ],
   "source": [
    "\n",
    "import numpy as np \n",
    " \n",
    "a = np.array([[1,2,3],[4,5,6]]) \n",
    "b = a.reshape(3,2)  \n",
    "print (b)\n"
   ]
  },
  {
   "cell_type": "code",
   "execution_count": 6,
   "metadata": {},
   "outputs": [
    {
     "name": "stdout",
     "output_type": "stream",
     "text": [
      "[[ 0  1  2  3  4  5]\n",
      " [ 6  7  8  9 10 11]\n",
      " [12 13 14 15 16 17]\n",
      " [18 19 20 21 22 23]]\n"
     ]
    }
   ],
   "source": [
    "import numpy as np\n",
    "arr2d = np.arange(24).reshape((4,6))\n",
    "print(arr2d)"
   ]
  },
  {
   "cell_type": "markdown",
   "metadata": {},
   "source": [
    "查看数组内存信息，使用ndarray.flags函数\n",
    "\n",
    "具体信息如下：\n",
    "\n",
    "C_CONTIGUOUS (C) \t数据是在一个单一的C风格的连续段中 \n",
    "\n",
    "F_CONTIGUOUS (F) \t数据是在一个单一的Fortran风格的连续段中\n",
    "\n",
    "OWNDATA (O) \t数组拥有它所使用的内存或从另一个对象中借用它\n",
    "\n",
    "WRITEABLE (W) \t数据区域可以被写入，将该值设置为 False，则数据为只读\n",
    "\n",
    "ALIGNED (A) \t数据和所有元素都适当地对齐到硬件上\n",
    "\n",
    "UPDATEIFCOPY (U) \t这个数组是其它数组的一个副本，当这个数组被释放时，原数组的内容将被更新"
   ]
  },
  {
   "cell_type": "code",
   "execution_count": 7,
   "metadata": {},
   "outputs": [
    {
     "name": "stdout",
     "output_type": "stream",
     "text": [
      "  C_CONTIGUOUS : True\n",
      "  F_CONTIGUOUS : True\n",
      "  OWNDATA : True\n",
      "  WRITEABLE : True\n",
      "  ALIGNED : True\n",
      "  WRITEBACKIFCOPY : False\n",
      "  UPDATEIFCOPY : False\n",
      "\n"
     ]
    }
   ],
   "source": [
    "\n",
    "import numpy as np \n",
    " \n",
    "x = np.array([1,2,3,4,5])  \n",
    "print (x.flags)\n"
   ]
  },
  {
   "cell_type": "markdown",
   "metadata": {},
   "source": [
    "### NumPy创建数组"
   ]
  },
  {
   "cell_type": "code",
   "execution_count": 8,
   "metadata": {},
   "outputs": [
    {
     "name": "stdout",
     "output_type": "stream",
     "text": [
      "[[1 2]\n",
      " [3 4]\n",
      " [5 6]]\n"
     ]
    }
   ],
   "source": [
    "import numpy as np \n",
    "x = np.empty([3,2], dtype = int) \n",
    "print (x)#创建一个3行2列的数组，都是随机值，因为没有初始化\n"
   ]
  },
  {
   "cell_type": "code",
   "execution_count": 9,
   "metadata": {},
   "outputs": [
    {
     "name": "stdout",
     "output_type": "stream",
     "text": [
      "[[1 1]\n",
      " [1 1]]\n",
      "[[0. 0.]\n",
      " [0. 0.]]\n",
      "[[0 0]\n",
      " [0 0]]\n"
     ]
    }
   ],
   "source": [
    "x = np.ones([2,2], dtype = int)\n",
    "print(x)\n",
    "y = np.zeros([2,2])\n",
    "print(y)#默认为浮点型\n",
    "z = np.zeros([2,2],dtype = int)\n",
    "print(z)"
   ]
  },
  {
   "cell_type": "markdown",
   "metadata": {},
   "source": [
    "### NumPy 从已有的数组创建数组 进行到这里了"
   ]
  },
  {
   "cell_type": "code",
   "execution_count": 10,
   "metadata": {},
   "outputs": [
    {
     "data": {
      "text/plain": [
       "numpy.ndarray"
      ]
     },
     "execution_count": 10,
     "metadata": {},
     "output_type": "execute_result"
    }
   ],
   "source": [
    "type(arr2d)"
   ]
  },
  {
   "cell_type": "code",
   "execution_count": 11,
   "metadata": {},
   "outputs": [
    {
     "data": {
      "text/plain": [
       "array([2, 4, 6])"
      ]
     },
     "execution_count": 11,
     "metadata": {},
     "output_type": "execute_result"
    }
   ],
   "source": [
    "np.arange(2,8,2)#arange用法：2到8间隔为2左闭右开"
   ]
  },
  {
   "cell_type": "code",
   "execution_count": 12,
   "metadata": {},
   "outputs": [
    {
     "data": {
      "text/plain": [
       "array([2. , 3.2, 4.4, 5.6, 6.8, 8. ])"
      ]
     },
     "execution_count": 12,
     "metadata": {},
     "output_type": "execute_result"
    }
   ],
   "source": [
    "np.linspace(2,8,6)#linspace用法，2到8分成x个点左闭右闭"
   ]
  },
  {
   "cell_type": "markdown",
   "metadata": {},
   "source": [
    "### 课堂小作业：计算矩阵的秩"
   ]
  },
  {
   "cell_type": "code",
   "execution_count": 13,
   "metadata": {},
   "outputs": [
    {
     "name": "stdout",
     "output_type": "stream",
     "text": [
      "1.235\n"
     ]
    }
   ],
   "source": [
    "#设定有效数字\n",
    "a =  1.23456\n",
    "b = round(a,3)\n",
    "print(b)"
   ]
  },
  {
   "cell_type": "code",
   "execution_count": 20,
   "metadata": {},
   "outputs": [
    {
     "name": "stdout",
     "output_type": "stream",
     "text": [
      "3\n",
      "2\n",
      "2\n"
     ]
    }
   ],
   "source": [
    "#计算矩阵的秩\n",
    "A = np.array([[3,1,0],[-1,2,1],[3,4,2]])\n",
    "a = np.linalg.matrix_rank(A)\n",
    "print(a)\n",
    "\n",
    "#计算本题增广矩阵 (A|b)的rank\n",
    "B = np.array([[0.835,0.667,0.168],[0.333,0.266,0.067]])\n",
    "b = np.linalg.matrix_rank(B)\n",
    "print(b)\n",
    "\n",
    "#计算A的秩 A的rank\n",
    "C = np.array([[0.835,0.667],[0.333,0.266]])\n",
    "c = np.linalg.matrix_rank(C)\n",
    "print(c)\n",
    "\n",
    "#由此可知rank(A) = rank(A|b)\n",
    "#下面加入有效数字\n",
    "\n"
   ]
  },
  {
   "cell_type": "code",
   "execution_count": 13,
   "metadata": {},
   "outputs": [
    {
     "name": "stdout",
     "output_type": "stream",
     "text": [
      "初始矩阵为：\n",
      "[0.835000 0.667000 |0.168000 ] \n",
      "\n",
      "[0.333000 0.266000 |0.067000 ] \n",
      "\n",
      "矩阵阶梯化为：\n",
      "[0.835000 0.667000 |0.168000 ] \n",
      "\n",
      "[0.000000 -0.000000 |0.000000 ] \n",
      "\n",
      "方程组有多解\n",
      "[[ 0.835  0.667  0.168]\n",
      " [ 0.    -0.     0.   ]]\n",
      "矩阵的秩为： 1\n"
     ]
    }
   ],
   "source": [
    "import numpy as np\n",
    "\n",
    "def swag(a, b):     #交换矩阵某两行函数\n",
    "    for i in range(0, len(a)):\n",
    "        t = a[i]\n",
    "        a[i] = b[i]\n",
    "        b[i] = t\n",
    "\n",
    "def print_matrix( info, matrix ):       #打印矩阵\n",
    "    print (info)\n",
    "    for i in range( 0, matrix.shape[0]): # shape[n]读取n维度的长度 axis[n] 本句意思是从第一行到最后一行\n",
    "        print('[', end='')               #每次开头读取之后都加一个[\n",
    "        for j in range( 0, matrix.shape[1]):\n",
    "            if(j == matrix.shape[1] - 1):   # 向量 b\n",
    "                print( '|', end=''),                           # 将系数矩阵和向量b用“|”隔开\n",
    "            print(\"%.6f\" %matrix[i][j], end=' ')          #总长5位，小数点后2位\n",
    "            if j == matrix.shape[1] - 1:                  # 输出矩阵元素m[i][j]\n",
    "                print(']', end=' ')\n",
    "                print('\\n')\n",
    "\n",
    "def check(matrix, i, row, col):         #判定函数，用于检测当前处理的矩阵的行的值是否全为0，若全为零，则从矩阵最底行开始遍历找出不全为零的行与此行交换，再对交换后的行进行处理\n",
    "    if 0.00 in set(matrix[i]) and len(set(matrix[i])) == 1:     #判定当前行是否全为零，将当前行集合化看其是否只有一个0元素\n",
    "        for j in range(row - 1, i ,-1):                         #从矩阵最后一行开始寻找不全为零的一行\n",
    "            try:\n",
    "                if not(0.00 in set(matrix[j]) and len(set(matrix[j])) == 1):    #判定这行是否全为零\n",
    "                    swag(matrix[i], matrix[j])                                  #交换\n",
    "                    select(matrix, i, col)                                      #交换后再进行阶梯化处理\n",
    "                    break\n",
    "            except:                     #如果遍历发现没有不为零的行了，则直接返回\n",
    "                return\n",
    "\n",
    "def select(matrix, i, col):             #矩阵的阶梯化处理函数\n",
    "    if 0.00 in set(matrix[i]) and len(set(matrix[i])) == 1:     #主要针对矩阵最后一行，judge函数无法对最后一行进行非零判定\n",
    "        return\n",
    "    for k in range(0, i):                                       #i是当前处理的矩阵的行数，这个循环是对矩阵的第i行进行阶梯化处理\n",
    "        \n",
    "        temp = matrix[i][k] / matrix[k][k]                      #根据主元matrix[k][k]确定让matrix[i][k]归零的除数\n",
    "        #temp = round(temp,3)\n",
    "        #print(temp)\n",
    "        if temp == 0:                                           #主元为0不执行操作\n",
    "            continue\n",
    "        for j in range(0, col):                                 #对这一行的所有数进行操作，其中和主元同一列的那个数会归零\n",
    "            matrix[i][j] = matrix[i][j] - matrix[k][j] * temp\n",
    "            matrix[i][j] = round(matrix[i][j],5)                                            #修改的部分\n",
    "            #print(matrix[i][j])\n",
    "\n",
    "def solve(matrix):                      #算法的主体部分\n",
    "    row = matrix.shape[0]                       #得到矩阵的行数\n",
    "    col = matrix.shape[1]                       #得到矩阵的列数\n",
    "    for i in range(0, row):                     #检查矩阵某一行的主元是否为0，为零则遍历寻找不为零的行与其交换\n",
    "        if matrix[i][i] == 0:                   #易得matrix[i][i]就为第i行主元\n",
    "            for j in range(i + 1, row):\n",
    "                if matrix[j][i] != 0:\n",
    "                    swag(matrix[i], matrix[j])\n",
    "                    break\n",
    "        select(matrix, i, col)                  #进行阶梯化操作\n",
    "        check(matrix, i, row, col)              #判定阶梯化后会不会使此行的值全化为零，若全化为零则将其与其他不为零的行交换，再进行阶梯化处理\n",
    "\n",
    "def to_one(matrix):                     #将矩阵化为行最简形矩阵\n",
    "    row = matrix.shape[0]\n",
    "    col = matrix.shape[1]\n",
    "    for i in range(0, row):                         #将矩阵每一行主元全部归一\n",
    "        temp = matrix[i][i]\n",
    "        for j in range(i, col):\n",
    "            matrix[i][j] = matrix[i][j] / temp\n",
    "    for i in range(0, row - 1):                     #对矩阵每一行非主元进行归零处理\n",
    "        for j in range(i + 1, col - 1):             #从主元后开始遍历对每一个数进行归零处理\n",
    "            temp = matrix[i][j]                     #之前将矩阵的主元都化为1，则此处令其归零的除数就是其本身 （x / 1 = x）\n",
    "            for k in range(j, col):                 # matrix[i][k]是第i行的第k个值，对此行的第j个数字进行归零处理，此行其他的数字也要做相同操作\n",
    "                matrix[i][k] = matrix[i][k] - matrix[j][k] * temp   #matrix[j][k]是matrix[i][k]对应的主元行上对应的列值\n",
    "\n",
    "def judge(matrix):                      #由阶梯化后的矩阵判定线性方程组解的个数\n",
    "    row = matrix.shape[0]\n",
    "    col = matrix.shape[1]\n",
    "    vanumlist = []\n",
    "    for i in range(0, col):             #因为由solve函数确定的是一个行阶梯型矩阵，则仅需判定最后一行非零数字的个数。若无或者有多个，则证明多解；有一个则无解；有两个则证明有唯一解\n",
    "        if matrix[row - 1][i] != 0:\n",
    "            vanumlist.append(matrix[row - 1][i])    #每遍历到一个非零值就将其写入vanumlist这个list中，最后计算vanumlist的长度即可\n",
    "    if len(vanumlist) == 1:\n",
    "        print( '方程组无解')\n",
    "    elif len(vanumlist) == 2:\n",
    "        to_one(matrix)                  #若有唯一解，则将矩阵进一步化成行最简形矩阵求出解\n",
    "        print_matrix('将矩阵最简阶梯化为：', matrix)\n",
    "        \n",
    "        for i in range(0, row):\n",
    "            print(\"x%d = %4.2f\" %(i,matrix[i][col - 1]), end=\"  \")\n",
    "    else:\n",
    "        print( '方程组有多解')\n",
    "\n",
    "matrix = np.array([ [ 0.835, 0.667, 0.168],\n",
    "                    [ 0.333, 0.266, 0.067]\n",
    "                    ],dtype=float)\n",
    "\n",
    "print_matrix('初始矩阵为：', matrix)\n",
    "solve(matrix)\n",
    "print_matrix('矩阵阶梯化为：', matrix)\n",
    "judge(matrix)\n",
    "rank = np.linalg.matrix_rank(matrix)\n",
    "print(matrix)\n",
    "print(\"矩阵的秩为：\", rank)\n"
   ]
  },
  {
   "cell_type": "markdown",
   "metadata": {},
   "source": [
    "两数之间最小公倍数"
   ]
  },
  {
   "cell_type": "code",
   "execution_count": null,
   "metadata": {},
   "outputs": [],
   "source": [
    " # n = input('请输入需要相加的分数个数：')\n",
    "# 求最大公约数的函数\n",
    "def max_Common_divisor(num1, num2):\n",
    "    while True:\n",
    "        rem = max(num1,num2) % min(num1,num2)\n",
    "        if rem == 0:\n",
    "            return min(num1,num2)\n",
    "        else:\n",
    "            num1 = min(num1,num2)\n",
    "            num2 = rem\n",
    "      \n",
    "# 求最小公倍数的函数  \n",
    "def min_Common_multiple(num1, num2):\n",
    "    max_common_divisor = max_Common_divisor(num1,num2)   # 先调用上面的求最大公约数函数求出两数最大公约数\n",
    "    min_common_multiple = num1*num2 / max_common_divisor   # 最小公倍数等于两数乘积除以最大公约数的商\n",
    "    return int(min_common_multiple)  # 用int()将浮点型转换为整型，看个人喜好\n",
    "\n",
    "\n",
    "defa = min_Common_multiple(6,4)   # 12\n",
    "print(a)"
   ]
  },
  {
   "cell_type": "code",
   "execution_count": 18,
   "metadata": {},
   "outputs": [
    {
     "name": "stdout",
     "output_type": "stream",
     "text": [
      "yes\n"
     ]
    }
   ],
   "source": [
    "def ifhuiwen(A , n):#A为输入列表，n为列表总长度\n",
    "    for i in range(0 , int(n)):\n",
    "        if A[i] == ' ':\n",
    "            return 'no'\n",
    "    if n > 100:\n",
    "        return 'no'\n",
    "    else:\n",
    "        if n == 1:\n",
    "            return 'yes'\n",
    "        elif n == 0:\n",
    "            return 'no'           \n",
    "        else:\n",
    "            a = 1\n",
    "            for i in range(0 , int(n/2)):#左闭右开\n",
    "            #如果n是偶数,列表最大为奇数0,1,2,3；如果n是奇数，列表最大为偶数0,1,2,3,4    \n",
    "                if A[i] != A[n-1-i]:\n",
    "                    a = 0\n",
    "            if a == 0:\n",
    "                return 'no'\n",
    "            else:\n",
    "                return 'yes'\n",
    "\n",
    "\n",
    "char1 = input()#默认输入为字符串\n",
    "A = list(char1)#A为列表类型\n",
    "n = len(char1) #n为int类型\n",
    "out = ifhuiwen(A,n)\n",
    "print(out)\n"
   ]
  },
  {
   "cell_type": "markdown",
   "metadata": {},
   "source": [
    "接下来是图像处理第二次作业中的第二题，计算两个矩阵的卷积，由于计算复杂我们使用代码实现。"
   ]
  },
  {
   "cell_type": "code",
   "execution_count": 5,
   "metadata": {},
   "outputs": [
    {
     "name": "stdout",
     "output_type": "stream",
     "text": [
      "[[26. 30. 25.]\n",
      " [23. 27. 42.]\n",
      " [15. 23. 28.]]\n"
     ]
    }
   ],
   "source": [
    " \n",
    "import numpy as np\n",
    " \n",
    " \n",
    "f = np.array([[1,2,1],\n",
    "[1,0,0],\n",
    "[-1,0,1]])\n",
    "# f = np.array([[3,4,4],\n",
    "# [1,0,2],\n",
    "# [-1,0,3]])\n",
    "img = np.array([\n",
    "       [2,3,7,4,6,2,9],\n",
    "       [6,6,9,8,7,4,3],\n",
    "       [3,4,8,3,8,9,7],\n",
    "       [7,8,3,6,6,3,4],\n",
    "       [4,2,1,8,3,4,6],\n",
    "       [3,2,4,1,9,8,3],\n",
    "       [0,1,3,9,2,1,4]])\n",
    " \n",
    "def cov2(img,f,strde):\n",
    "    inw,inh = img.shape\n",
    "    w,h=f.shape\n",
    "    outw = (inw -w )/strde + 1\n",
    "    outh = (inh -h )/strde + 1\n",
    "    arr = np.zeros(shape=(int(outw), int(outh)))\n",
    "    for g in range(int(outh)):\n",
    "       for t in range(int(outw)):\n",
    "          s = 0\n",
    "          for i in range(w):\n",
    "              for j in range(h):\n",
    "                  s+=img[i+g*strde][j+t*strde]*f[i][j]\n",
    "                  # s = img[i][j] * f[i][j]\n",
    "          arr[g][t]=s\n",
    "    return arr\n",
    " \n",
    "print(cov2(img,f,2))"
   ]
  },
  {
   "cell_type": "code",
   "execution_count": 7,
   "metadata": {},
   "outputs": [
    {
     "name": "stdout",
     "output_type": "stream",
     "text": [
      "full卷积： [[ -1  -3  -1   3  -2   0   4]\n",
      " [ -3  -6  -4   4  -4   2  11]\n",
      " [ -3  -7  -6   3  -6   4  15]\n",
      " [ -3 -11  -4   8 -10   3  17]\n",
      " [ -7 -11   2   5 -10   6  15]\n",
      " [ -8  -5   6  -4  -6   9   8]\n",
      " [ -3  -1   3  -3  -2   4   2]]\n",
      "same卷积： [[ -6   3  -6]\n",
      " [ -4   8 -10]\n",
      " [  2   5 -10]]\n",
      "valid卷积： [[ -6   3  -6]\n",
      " [ -4   8 -10]\n",
      " [  2   5 -10]]\n"
     ]
    }
   ],
   "source": [
    "from sympy import *\n",
    "import numpy as np\n",
    "from scipy import signal\n",
    " \n",
    " \n",
    "M3 = np.array([[-1,0,1],[-2,0,2],[-1,0,1]])\n",
    "M4 = np.array([[1,3,2,0,4],[1,0,3,2,3],[0,4,1,0,5],[2,3,2,1,4],[3,1,0,4,2]])\n",
    " \n",
    "print(\"full卷积：\",signal.convolve2d(M3, M4,'full'))\n",
    "print(\"same卷积：\",signal.convolve2d(M3, M4,'same'))\n",
    "print(\"valid卷积：\",signal.convolve2d(M3, M4,'valid')) \n"
   ]
  },
  {
   "cell_type": "markdown",
   "metadata": {},
   "source": [
    "求逆矩阵"
   ]
  },
  {
   "cell_type": "code",
   "execution_count": 6,
   "metadata": {},
   "outputs": [
    {
     "name": "stdout",
     "output_type": "stream",
     "text": [
      "[[ 1.  2. -1.]\n",
      " [ 0. -1.  1.]\n",
      " [ 1.  4. -2.]]\n",
      "[[ 0. -2.  1.]\n",
      " [ 1.  3. -1.]\n",
      " [-1. -4.  2.]]\n"
     ]
    }
   ],
   "source": [
    "    from numpy import *\n",
    "     \n",
    "    import numpy as np\n",
    "     \n",
    "    A=np.array([[2,0,-1],[-1,1,1],[-1,2,1]])\n",
    "    B=np.linalg.inv(A)\n",
    "     \n",
    "    print(B)\n",
    "\n",
    "    C=np.array([[2,0,-1],[-1,1,1],[-1,2,2]])\n",
    "    D=np.linalg.inv(C)\n",
    "     \n",
    "    print(D)"
   ]
  },
  {
   "cell_type": "markdown",
   "metadata": {},
   "source": [
    "矩阵的LU分解"
   ]
  },
  {
   "cell_type": "code",
   "execution_count": 18,
   "metadata": {},
   "outputs": [
    {
     "name": "stdout",
     "output_type": "stream",
     "text": [
      "[[  1.   0.   0.   0.]\n",
      " [  3.   1.   0.   0.]\n",
      " [  2. -inf   1.   0.]\n",
      " [  0.  inf  nan   1.]] \n",
      " [[  1.   2.   4.  17.]\n",
      " [  0.   0. -24. -48.]\n",
      " [  0.   0. -inf -inf]\n",
      " [  0.   0.   0.  nan]]\n"
     ]
    },
    {
     "name": "stderr",
     "output_type": "stream",
     "text": [
      "C:\\Users\\LLY牛\\ Local Settings\\Temp\\ipykernel_14428\\2255882266.py:26: RuntimeWarning: divide by zero encountered in double_scalars\n",
      "  L[j][i] = (A[j][i] - temp)/U[i][i]\n",
      "C:\\Users\\LLY牛\\ Local Settings\\Temp\\ipykernel_14428\\2255882266.py:26: RuntimeWarning: invalid value encountered in double_scalars\n",
      "  L[j][i] = (A[j][i] - temp)/U[i][i]\n"
     ]
    }
   ],
   "source": [
    "import numpy as np\n",
    "import pandas as pd\n",
    " \n",
    "np.random.seed(2)\n",
    "def LU_decomposition(A):\n",
    "    n=len(A[0])\n",
    "    L = np.zeros([n,n])\n",
    "    U = np.zeros([n, n])\n",
    "    for i in range(n):\n",
    "        L[i][i]=1\n",
    "        if i==0:\n",
    "            U[0][0] = A[0][0]\n",
    "            for j in range(1,n):\n",
    "                U[0][j]=A[0][j]\n",
    "                L[j][0]=A[j][0]/U[0][0]\n",
    "        else:\n",
    "                for j in range(i, n):#U\n",
    "                    temp=0\n",
    "                    for k in range(0, i):\n",
    "                        temp = temp+L[i][k] * U[k][j]\n",
    "                    U[i][j]=A[i][j]-temp\n",
    "                for j in range(i+1, n):#L\n",
    "                    temp = 0\n",
    "                    for k in range(0, i ):\n",
    "                        temp = temp + L[j][k] * U[k][i]\n",
    "                    L[j][i] = (A[j][i] - temp)/U[i][i]\n",
    "    return L,U\n",
    " \n",
    "if __name__ == '__main__': \n",
    "    #A=np.random.randint(1,10,size=[3,3])  #注意A的顺序主子式大于零\n",
    "    A=[[1,2,4,17],[3,6,-12,3],[2,3,-3,2],[0,2,-2,6]]      #举一个例子\n",
    "    L,U=LU_decomposition(A)\n",
    "    print(L,'\\n',U)"
   ]
  },
  {
   "cell_type": "code",
   "execution_count": 5,
   "metadata": {},
   "outputs": [
    {
     "name": "stdout",
     "output_type": "stream",
     "text": [
      "[-1.79109255e-19  2.85112420e-02  2.79973443e-19  3.37658729e-20\n",
      " -2.72802663e-19  1.49285011e-01 -9.94082533e-20  8.35373900e-20\n",
      "  2.46718649e-01  5.78224144e-01 -4.03739463e-19  1.01242860e-03\n",
      " -9.28486180e-20  2.26767464e-01 -1.58813678e-19 -8.97232272e-20\n",
      " -1.22145729e-19 -1.51509428e-19  1.12060672e-19 -3.48318635e-19]\n",
      "[ 2.50938945  0.          2.78354615  1.79425782 13.08579183  0.\n",
      "  0.73716363  3.35344995  0.          0.          8.93825054  0.\n",
      "  7.02955161  0.          4.71068649  3.18873635  2.06090107 10.08166738\n",
      "  3.0481157   8.53268239]\n"
     ]
    },
    {
     "name": "stderr",
     "output_type": "stream",
     "text": [
      "g:\\Anaconda\\lib\\site-packages\\cvxpy\\expressions\\expression.py:593: UserWarning: \n",
      "This use of ``*`` has resulted in matrix multiplication.\n",
      "Using ``*`` for matrix multiplication has been deprecated since CVXPY 1.1.\n",
      "    Use ``*`` for matrix-scalar and vector-scalar multiplication.\n",
      "    Use ``@`` for matrix-matrix and matrix-vector multiplication.\n",
      "    Use ``multiply`` for elementwise multiplication.\n",
      "This code path has been hit 1 times so far.\n",
      "\n",
      "  warnings.warn(msg, UserWarning)\n"
     ]
    }
   ],
   "source": [
    "import cvxpy as cp\n",
    "import numpy as np\n",
    "\n",
    "# Problem data.\n",
    "m = 30\n",
    "n = 20\n",
    "np.random.seed(1)\n",
    "A = np.random.randn(m, n)\n",
    "b = np.random.randn(m)\n",
    "\n",
    "# Construct the problem.\n",
    "x = cp.Variable(n)\n",
    "objective = cp.Minimize(cp.sum_squares(A*x - b))\n",
    "constraints = [0 <= x, x <= 1]\n",
    "prob = cp.Problem(objective, constraints)\n",
    "\n",
    "# The optimal objective value is returned by `prob.solve()`.\n",
    "result = prob.solve()\n",
    "# The optimal value for x is stored in `x.value`.\n",
    "print(x.value)\n",
    "# The optimal Lagrange multiplier for a constraint is stored in\n",
    "# `constraint.dual_value`.\n",
    "print(constraints[0].dual_value)"
   ]
  },
  {
   "cell_type": "markdown",
   "metadata": {},
   "source": [
    "Tom手上有个长度为 nnn 的数组 AAA。由于数组实在太大了，所以Tom也不知道数组里面有什么数字，所以Tom会经常询问在数组 AAA 中，大于等于 xxx 的最小值是多大？\n"
   ]
  },
  {
   "cell_type": "code",
   "execution_count": 49,
   "metadata": {},
   "outputs": [
    {
     "name": "stdout",
     "output_type": "stream",
     "text": [
      "[3 4 5]\n"
     ]
    }
   ],
   "source": [
    "#先完成一个数值比较转移到新数组的功能\n",
    "import numpy as np\n",
    "a = np.array([1, 2, 3, 4, 5])\n",
    "x = 2\n",
    "b = a[np.where(a > x)]\n",
    "c = min(b)\n",
    "print(b)"
   ]
  },
  {
   "cell_type": "code",
   "execution_count": 52,
   "metadata": {},
   "outputs": [
    {
     "name": "stdout",
     "output_type": "stream",
     "text": [
      "2\n",
      "7\n",
      "10\n"
     ]
    },
    {
     "ename": "ValueError",
     "evalue": "min() arg is an empty sequence",
     "output_type": "error",
     "traceback": [
      "\u001b[1;31m---------------------------------------------------------------------------\u001b[0m",
      "\u001b[1;31mValueError\u001b[0m                                Traceback (most recent call last)",
      "\u001b[1;32mg:\\Anaconda\\study process\\test.ipynb Cell 47\u001b[0m in \u001b[0;36m<cell line: 14>\u001b[1;34m()\u001b[0m\n\u001b[0;32m     <a href='vscode-notebook-cell:/g%3A/Anaconda/study%20process/test.ipynb#X64sZmlsZQ%3D%3D?line=13'>14</a>\u001b[0m \u001b[39mfor\u001b[39;00m j \u001b[39min\u001b[39;00m \u001b[39mrange\u001b[39m(x):\u001b[39m#每一个a中的值于A中的一个值比较   A[x]参考值5个\u001b[39;00m\n\u001b[0;32m     <a href='vscode-notebook-cell:/g%3A/Anaconda/study%20process/test.ipynb#X64sZmlsZQ%3D%3D?line=14'>15</a>\u001b[0m     \u001b[39m#for k in range(n): #a[n]原数列\u001b[39;00m\n\u001b[0;32m     <a href='vscode-notebook-cell:/g%3A/Anaconda/study%20process/test.ipynb#X64sZmlsZQ%3D%3D?line=15'>16</a>\u001b[0m     b \u001b[39m=\u001b[39m \u001b[39mlist\u001b[39m(a[np\u001b[39m.\u001b[39mwhere(A[j] \u001b[39m<\u001b[39m a)])\n\u001b[1;32m---> <a href='vscode-notebook-cell:/g%3A/Anaconda/study%20process/test.ipynb#X64sZmlsZQ%3D%3D?line=16'>17</a>\u001b[0m     c \u001b[39m=\u001b[39m \u001b[39mmin\u001b[39;49m(b)\n\u001b[0;32m     <a href='vscode-notebook-cell:/g%3A/Anaconda/study%20process/test.ipynb#X64sZmlsZQ%3D%3D?line=17'>18</a>\u001b[0m     \u001b[39mif\u001b[39;00m c \u001b[39m==\u001b[39m \u001b[39m0\u001b[39m:\n\u001b[0;32m     <a href='vscode-notebook-cell:/g%3A/Anaconda/study%20process/test.ipynb#X64sZmlsZQ%3D%3D?line=18'>19</a>\u001b[0m         c \u001b[39m=\u001b[39m \u001b[39m-\u001b[39m\u001b[39m1\u001b[39m\n",
      "\u001b[1;31mValueError\u001b[0m: min() arg is an empty sequence"
     ]
    }
   ],
   "source": [
    "n,x=map(int,input().split()) #n数组总个数10 #x比较参考值个数,同时输入两个数值\n",
    "a = input(\"\") #输入数组\n",
    "a = [int(m) for m in a.split()]\n",
    "A = [0]*x#问题出在数组没有初始化！\n",
    "# print(a)\n",
    "for i in range(x):\n",
    "    A[i] = int(input()) #A中放置的是比较的数值，空格输入\n",
    "\n",
    "# A=np.matrix(A)\n",
    "a = np.array(a)\n",
    "c = 0\n",
    "# print(a)\n",
    "#至此完成所有输入\n",
    "for j in range(x):#每一个a中的值于A中的一个值比较   A[x]参考值5个\n",
    "    #for k in range(n): #a[n]原数列\n",
    "    b = list(a[np.where(A[j] < a)])\n",
    "    c = min(b)\n",
    "    print(c)\n",
    "\n",
    "\n",
    "\n"
   ]
  },
  {
   "cell_type": "code",
   "execution_count": 53,
   "metadata": {},
   "outputs": [],
   "source": [
    "import sys\n",
    "\n",
    "\n",
    "'''def quicksort(arr):\n",
    "    if len(arr) >= 2:\n",
    "        qivot = arr[int(len(arr) / 2)]\n",
    "        s_l, s_r = [], []\n",
    "        arr.remove(qivot)\n",
    "        for i in arr:\n",
    "            if i >= qivot:\n",
    "                s_r.append(i)\n",
    "            else:\n",
    "                s_l.append(i)\n",
    "        return quicksort(s_l) + [qivot] + quicksort(s_r)\n",
    "    else:\n",
    "        return arr\n",
    "'''\n",
    "\n",
    "\n",
    "def partition(li, left, right):\n",
    "    tmp = li[left]\n",
    "    while left < right:\n",
    "        while left < right and li[right] >= tmp:\n",
    "            right -= 1\n",
    "        li[left] = li[right]\n",
    "\n",
    "        while left < right and li[left] <= tmp:\n",
    "            left += 1\n",
    "        li[right] = li[left]\n",
    "\n",
    "    li[left] = tmp\n",
    "    return left\n",
    "\n",
    "\n",
    "def quicksort(li, left, right):\n",
    "    if left < right:\n",
    "        mid = partition(li, left, right)\n",
    "        quicksort(li, left, mid - 1)\n",
    "        quicksort(li, mid + 1, right)\n",
    "\n",
    "\n",
    "arr1 = sys.stdin.readline().strip()\n",
    "num1 = list(map(int, arr1.split()))\n",
    "arr2 = sys.stdin.readline().strip()\n",
    "num2 = list(map(int, arr2.split()))\n",
    "quicksort(num2, 0, num1[0] - 1)\n",
    "len_arr = len(num2)\n",
    "num3 = []\n",
    "for i in range(num1[1]):\n",
    "    arr3 = sys.stdin.readline()\n",
    "    num3.append(int(arr3))\n",
    "for i in range(num1[1]):\n",
    "    left = 0\n",
    "    right = len_arr - 1\n",
    "    while left <= right:\n",
    "        mid = int((right + left) / 2)\n",
    "        if num3[i] < num2[mid]:\n",
    "            right = mid - 1\n",
    "        elif num3[i] > num2[mid]:\n",
    "            left = mid + 1\n",
    "        else:\n",
    "            print(\"YES\")\n",
    "            break\n",
    "    if left > right:\n",
    "        print(\"NO\")"
   ]
  },
  {
   "cell_type": "markdown",
   "metadata": {},
   "source": [
    "    Tom手上有个长度为 nnn 的数组 AAA。由于数组实在太大了，所以Tom也不知道数组里面有什么数字，所以Tom会经常询问在数组 AAA 中，大于等于 xxx 的最小值是多大？\n",
    "    输入格式\n",
    "\n",
    "    第一行输入两个整数 nnn 和 mmm，分别表示数组的长度和查询的次数。\n",
    "\n",
    "    接下来一行有 nnn 个整数 aia_iai​。\n",
    "\n",
    "    接下来 mmm 行，每行有 111 个整数 xxx，表示Tom询问的整数。\n",
    "    输出格式\n",
    "\n",
    "    对于每次查询，如果可以找到，输出这个整数。\n",
    "\n",
    "    否则输出 −1-1−1。\n",
    "    数据范围\n",
    "\n",
    "    1≤n,m≤105,0≤x≤1061 \\le n, m \\le 10^5, 0 \\le x \\le 10^61≤n,m≤105,0≤x≤106。"
   ]
  },
  {
   "cell_type": "code",
   "execution_count": 10,
   "metadata": {},
   "outputs": [
    {
     "name": "stdout",
     "output_type": "stream",
     "text": [
      "1\n",
      "5\n",
      "9\n",
      "-1\n",
      "-1\n"
     ]
    }
   ],
   "source": [
    "import numpy as np\n",
    "def search(array,n):\n",
    "    array.sort()#对数组进行排序\n",
    "    low = 0#开始下标\n",
    "    h = len(array) - 1#结束下标\n",
    "    p = 0\n",
    "    q = len(array) - 1\n",
    "    while low <= h:\n",
    "        k = (low + h)//2\n",
    "        if array[k] < n:\n",
    "            low = k + 1\n",
    "        elif array[k] > n:\n",
    "            h = k -1\n",
    "        else:\n",
    "            return array[k]#找到返回对应下标\n",
    "    if (array[p] <= n and array[q] >= n):\n",
    "        return array[low]\n",
    "    else:\n",
    "        return -1#找不到返回-1\n",
    "# array = [i for i in range(1,1001,5)]#本身就是有序的数组\n",
    "# print(search(array,817))\n",
    "\n",
    "n,x=map(int,input().split()) #n数组总个数10 #x比较参考值个数,同时输入两个数值\n",
    "a = input(\"\") #输入数组\n",
    "a = [int(m) for m in a.split()]\n",
    "A = [0]*x#问题出在数组没有初始化！\n",
    "# print(a)\n",
    "for i in range(x):\n",
    "    A[i] = int(input()) #A中放置的是比较的数值，空格输入\n",
    "a = np.array(a)\n",
    "\n",
    "\n",
    "for j in range(x):#每一个a中的值于A中的一个值比较   A[x]参考值5个\n",
    "    #for k in range(n): #a[n]原数列\n",
    "    b = search(a,A[j])\n",
    "    print(b)\n",
    "\n",
    "\n"
   ]
  },
  {
   "cell_type": "markdown",
   "metadata": {},
   "source": [
    "经过改进之后，第一次使用二分法实现了寻找序列中比输入值n打的最小值！接下来对input进行一步优化进一步减少延迟！"
   ]
  },
  {
   "cell_type": "code",
   "execution_count": 12,
   "metadata": {},
   "outputs": [
    {
     "name": "stdout",
     "output_type": "stream",
     "text": [
      "1\n",
      "1\n",
      "5\n",
      "10\n",
      "-1\n"
     ]
    }
   ],
   "source": [
    "def search(array,n):\n",
    "    array.sort()#对数组进行排序\n",
    "    low = 0#开始下标\n",
    "    h = len(array) - 1#结束下标\n",
    "    p = 0\n",
    "    q = len(array) - 1\n",
    "    while low <= h:\n",
    "        k = (low + h)//2\n",
    "        if array[k] < n:\n",
    "            low = k + 1\n",
    "        elif array[k] > n:\n",
    "            h = k -1\n",
    "        else:\n",
    "            return array[k]#找到返回对应下标\n",
    "    if (array[q] >= n):\n",
    "        return array[low]\n",
    "    else:\n",
    "        return -1#找不到返回-1\n",
    "# array = [i for i in range(1,1001,5)]#本身就是有序的数组\n",
    "# print(search(array,817))\n",
    "\n",
    "\n",
    "n,x=map(int,input().split()) #n数组总个数10 #x比较参考值个数,同时输入两个数值\n",
    "a = input(\"\") #输入数组\n",
    "a = [int(m) for m in a.split()]\n",
    "A = [0]*x#问题出在数组没有初始化！\n",
    "# print(a)\n",
    "for i in range(x):\n",
    "    A[i] = int(input()) #A中放置的是比较的数值，空格输入\n",
    "# a = np.array(a)\n",
    "\n",
    "\n",
    "for j in range(x):#每一个a中的值于A中的一个值比较   A[x]参考值5个\n",
    "    #for k in range(n): #a[n]原数列\n",
    "    b = search(a,A[j])\n",
    "    print(b)\n",
    "\n"
   ]
  }
 ],
 "metadata": {
  "kernelspec": {
   "display_name": "Python 3.9.12 ('base')",
   "language": "python",
   "name": "python3"
  },
  "language_info": {
   "codemirror_mode": {
    "name": "ipython",
    "version": 3
   },
   "file_extension": ".py",
   "mimetype": "text/x-python",
   "name": "python",
   "nbconvert_exporter": "python",
   "pygments_lexer": "ipython3",
   "version": "3.9.12"
  },
  "orig_nbformat": 4,
  "vscode": {
   "interpreter": {
    "hash": "679ca3d7e10d4fea823e60e28cb6f57bfb034a2481868839314afba603aaea83"
   }
  }
 },
 "nbformat": 4,
 "nbformat_minor": 2
}
